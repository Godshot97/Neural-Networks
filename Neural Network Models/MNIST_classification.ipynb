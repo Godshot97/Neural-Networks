{
 "cells": [
  {
   "cell_type": "markdown",
   "metadata": {},
   "source": [
    "<h1>MNIST dataset. Clothes classification model. </h1>"
   ]
  },
  {
   "cell_type": "code",
   "execution_count": 14,
   "metadata": {},
   "outputs": [],
   "source": [
    "from tensorflow import keras\n",
    "import numpy as np\n",
    "import matplotlib.pyplot as plt\n",
    "%matplotlib inline"
   ]
  },
  {
   "cell_type": "code",
   "execution_count": 2,
   "metadata": {},
   "outputs": [],
   "source": [
    "# loading MNIST dataset from keras\n",
    "data = keras.datasets.fashion_mnist.load_data()\n",
    "\n",
    "# data split into training and test sets\n",
    "(train_images, train_labels), (test_images, test_labels) = data\n",
    "\n",
    "# data normalization\n",
    "train_images = train_images/255.0\n",
    "test_images = test_images/255.0"
   ]
  },
  {
   "cell_type": "code",
   "execution_count": 5,
   "metadata": {},
   "outputs": [],
   "source": [
    "# model building\n",
    "model = keras.Sequential([\n",
    "    keras.layers.Flatten(input_shape=(28, 28)),          \n",
    "    keras.layers.Dense(128, activation=\"relu\"),          \n",
    "    keras.layers.Dense(10, activation=\"softmax\")\n",
    "])\n",
    "\n",
    "model.compile(optimizer=\"adam\", loss=\"sparse_categorical_crossentropy\", metrics=[\"accuracy\"])"
   ]
  },
  {
   "cell_type": "code",
   "execution_count": 8,
   "metadata": {},
   "outputs": [
    {
     "name": "stdout",
     "output_type": "stream",
     "text": [
      "Epoch 1/10\n",
      "60000/60000 [==============================] - 4s 70us/sample - loss: 0.2804 - acc: 0.8961\n",
      "Epoch 2/10\n",
      "60000/60000 [==============================] - 4s 63us/sample - loss: 0.2667 - acc: 0.8996\n",
      "Epoch 3/10\n",
      "60000/60000 [==============================] - 5s 89us/sample - loss: 0.2547 - acc: 0.9044\n",
      "Epoch 4/10\n",
      "60000/60000 [==============================] - 5s 82us/sample - loss: 0.2467 - acc: 0.9067\n",
      "Epoch 5/10\n",
      "60000/60000 [==============================] - 4s 60us/sample - loss: 0.2372 - acc: 0.9110\n",
      "Epoch 6/10\n",
      "60000/60000 [==============================] - 4s 62us/sample - loss: 0.2307 - acc: 0.9136\n",
      "Epoch 7/10\n",
      "60000/60000 [==============================] - 4s 61us/sample - loss: 0.2221 - acc: 0.9160\n",
      "Epoch 8/10\n",
      "60000/60000 [==============================] - 4s 62us/sample - loss: 0.2163 - acc: 0.9182\n",
      "Epoch 9/10\n",
      "60000/60000 [==============================] - 4s 62us/sample - loss: 0.2093 - acc: 0.9210\n",
      "Epoch 10/10\n",
      "60000/60000 [==============================] - 4s 62us/sample - loss: 0.2021 - acc: 0.9237\n"
     ]
    },
    {
     "data": {
      "text/plain": [
       "<tensorflow.python.keras.callbacks.History at 0x19c2cd76cf8>"
      ]
     },
     "execution_count": 8,
     "metadata": {},
     "output_type": "execute_result"
    }
   ],
   "source": [
    "# model training\n",
    "model.fit(train_images, train_labels, epochs=10)"
   ]
  },
  {
   "cell_type": "code",
   "execution_count": 9,
   "metadata": {},
   "outputs": [
    {
     "name": "stdout",
     "output_type": "stream",
     "text": [
      "10000/10000 [==============================] - 0s 33us/sample - loss: 0.3555 - acc: 0.8822\n",
      "\n",
      "Test accuracy: 0.8822\n"
     ]
    }
   ],
   "source": [
    "# model testing\n",
    "test_loss, test_acc = model.evaluate(test_images, test_labels)\n",
    "print('\\nTest accuracy:', test_acc)"
   ]
  },
  {
   "cell_type": "markdown",
   "metadata": {},
   "source": [
    "<h2>Practical model usage for clothes classification.</h2>"
   ]
  },
  {
   "cell_type": "code",
   "execution_count": 10,
   "metadata": {},
   "outputs": [],
   "source": [
    "class_names = ['T-shirt/top', 'Trouser', 'Pullover', 'Dress', 'Coat', 'Sandal', 'Shirt', 'Sneaker', 'Bag', 'Ankle boot']"
   ]
  },
  {
   "cell_type": "code",
   "execution_count": 29,
   "metadata": {},
   "outputs": [
    {
     "name": "stdout",
     "output_type": "stream",
     "text": [
      "Pullover\n"
     ]
    }
   ],
   "source": [
    "prediction = model.predict(test_images)\n",
    "print(class_names[np.argmax(prediction[99])])"
   ]
  },
  {
   "cell_type": "code",
   "execution_count": 25,
   "metadata": {},
   "outputs": [
    {
     "data": {
      "image/png": "[encoded data removed]",
      "text/plain": [
       "<Figure size 432x288 with 1 Axes>"
      ]
     },
     "metadata": {
      "needs_background": "light"
     },
     "output_type": "display_data"
    }
   ],
   "source": [
    "plt.imshow(test_images[1], cmap=plt.cm.binary)\n",
    "plt.xlabel(\"Actual: \" + class_names[test_labels[99]])\n",
    "plt.title(\"Prediction: \" + class_names[np.argmax(prediction[99])]);"
   ]
  },
  {
   "cell_type": "markdown",
   "metadata": {},
   "source": [
    "<b>Thanks to the visualization, we can visually judge ourselves, whether the clothing has been correctly classified.</b>"
   ]
  }
 ],
 "metadata": {
  "kernelspec": {
   "display_name": "Python 3",
   "language": "python",
   "name": "python3"
  },
  "language_info": {
   "codemirror_mode": {
    "name": "ipython",
    "version": 3
   },
   "file_extension": ".py",
   "mimetype": "text/x-python",
   "name": "python",
   "nbconvert_exporter": "python",
   "pygments_lexer": "ipython3",
   "version": "3.7.3"
  }
 },
 "nbformat": 4,
 "nbformat_minor": 2
}
